{
 "cells": [
  {
   "cell_type": "code",
   "execution_count": null,
   "id": "71fcf3e7",
   "metadata": {},
   "outputs": [],
   "source": [
    "import os\n",
    "import cv2 as cv\n",
    "import numpy as np"
   ]
  },
  {
   "cell_type": "code",
   "execution_count": null,
   "id": "bc0382b7",
   "metadata": {},
   "outputs": [],
   "source": [
    "people = []\n",
    "p = []\n",
    "\n",
    "# Cambiar la ruta a la carpeta donde están todas las carpetas \n",
    "# que contienen las fotos para entrenar al modelo\n",
    "RUTA = r'C:\\Users\\isaac\\Desktop\\openCV\\train'\n",
    "haar_cascade = cv.CascadeClassifier('haar_face.xml')\n",
    "features = []\n",
    "labels = []\n",
    "\n",
    "\n",
    "for i in os.listdir(RUTA):\n",
    "    people.append(i)\n",
    "\n",
    "\n",
    "def create_train():\n",
    "    for person in people:\n",
    "        path = os.path.join(RUTA, person)\n",
    "        label = people.index(person)\n",
    "        \n",
    "        for img in os.listdir(path):\n",
    "            img_path = os.path.join(path, img)\n",
    "            \n",
    "            img_array = cv.imread(img_path)\n",
    "            gray = cv.cvtColor(img_array, cv.COLOR_BGR2GRAY)\n",
    "            \n",
    "            faces_rect = haar_cascade.detectMultiScale(gray, scaleFactor=1.5, minNeighbors=3)\n",
    "            \n",
    "            for (x, y, w, h) in faces_rect:\n",
    "                faces_roi = gray[y:y+h, x: x+w]\n",
    "                features.append(faces_roi)\n",
    "                labels.append(label)\n",
    "                \n",
    "                \n",
    "create_train()"
   ]
  },
  {
   "cell_type": "code",
   "execution_count": null,
   "id": "fb4582c6",
   "metadata": {},
   "outputs": [],
   "source": [
    "features = np.array(features, dtype='object')\n",
    "labels = np.array(labels)\n",
    "\n",
    "face_recognizer = cv.face.LBPHFaceRecognizer_create()\n",
    "\n",
    "face_recognizer.train(features, labels)\n",
    "\n",
    "face_recognizer.save('face_trained.yml')\n",
    "np.save('features.npy', features)\n",
    "np.save('labels.npy', labels)"
   ]
  },
  {
   "cell_type": "code",
   "execution_count": null,
   "id": "bdc2728a",
   "metadata": {},
   "outputs": [],
   "source": [
    "# Si se tuviese que leer el archivo generado se haría de la siguiente forma\n",
    "haar_cascade = cv.CascadeClassifier('haar_face.xml')\n",
    "\n",
    "features = np.load('features.npy', allow_pickle=True)\n",
    "labels = np.load('labels.npy', allow_pickle=True)\n",
    "\n",
    "face_recognizer = cv.face.LBPHFaceRecognizer_create()\n",
    "face_recognizer.read('face_trained.yml')"
   ]
  },
  {
   "cell_type": "code",
   "execution_count": null,
   "id": "dd49de2b",
   "metadata": {},
   "outputs": [],
   "source": [
    "# Cambiar la ruta de la imagen\n",
    "img = cv.imread(r\"C:\\Users\\isaac\\Desktop\\openCV\\photos/dicaprio.jpg\")\n",
    "gray = cv.cvtColor(img, cv.COLOR_BGR2GRAY)\n",
    "\n",
    "faces_rect = haar_cascade.detectMultiScale(gray, scaleFactor=1.1, minNeighbors=4)\n",
    "\n",
    "for (x,y,w,h) in faces_rect:\n",
    "    faces_roi = gray[y:y+h, x: x+w]\n",
    "    \n",
    "    label, confidence = face_recognizer.predict(faces_roi)\n",
    "    print(f\"Label = {people[label]} with a confidence of {confidence}\")\n",
    "    \n",
    "    cv.putText(img, str(people[label]), (30, 30), cv.FONT_HERSHEY_COMPLEX, 1.0, (0, 255, 0), thickness=2)\n",
    "    cv.rectangle(img, (x,y), (x+w, y+h), (0, 255, 0), thickness=2)\n",
    "\n",
    "cv.imshow('detected face', img)\n",
    "cv.waitKey(0)"
   ]
  }
 ],
 "metadata": {
  "language_info": {
   "name": "python"
  }
 },
 "nbformat": 4,
 "nbformat_minor": 5
}
